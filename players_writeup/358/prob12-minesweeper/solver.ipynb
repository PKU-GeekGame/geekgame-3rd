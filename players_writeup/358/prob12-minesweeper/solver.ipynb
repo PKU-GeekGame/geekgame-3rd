{
 "cells": [
  {
   "cell_type": "code",
   "execution_count": 23,
   "id": "5b39eb2e-7dbd-4a9f-aafa-f2787a0a074f",
   "metadata": {},
   "outputs": [],
   "source": [
    "# A toy example for testing my BFS\n",
    "constraints = sorted([\n",
    "    [1, 2],\n",
    "    [2, 3],\n",
    "    [3, 1],\n",
    "    [1, -2],\n",
    "], key=lambda x: max(map(abs, x)))\n",
    "N = 3"
   ]
  },
  {
   "cell_type": "code",
   "execution_count": 65,
   "id": "fba9b38f-0f39-4f33-9fee-73d64cfaf651",
   "metadata": {},
   "outputs": [
    {
     "name": "stdout",
     "output_type": "stream",
     "text": [
      "10206\n"
     ]
    }
   ],
   "source": [
    "results = []\n",
    "def bfs(l, idx=0):\n",
    "    while abs(constraints[idx][-1]) == len(l):\n",
    "        res = 1-len(constraints[idx])\n",
    "        for n in constraints[idx]:\n",
    "            if n > 0:\n",
    "                res += l[n-1]\n",
    "            else:\n",
    "                res += 1 - l[-1-n]\n",
    "        if res > 0:\n",
    "            return\n",
    "        idx += 1\n",
    "    if len(l) == N:\n",
    "        results.append(l.copy())\n",
    "        return\n",
    "    if len(l) + 1 in given:\n",
    "        l.append(given[len(l) + 1])\n",
    "        bfs(l, idx)\n",
    "        l.pop()\n",
    "    else:\n",
    "        for x in range(2):\n",
    "            l.append(x)\n",
    "            bfs(l, idx)\n",
    "            l.pop()\n",
    "\n",
    "bfs([])\n",
    "print(len(results))"
   ]
  },
  {
   "cell_type": "code",
   "execution_count": 96,
   "id": "4a85d668-21a2-47b0-9c0a-95fe8c180da5",
   "metadata": {},
   "outputs": [
    {
     "name": "stdout",
     "output_type": "stream",
     "text": [
      "[1, 1, 0, 1, 1, 0, 0, 0, 0, 1, 0, 0, 1, 0, 1, 1, 1, 0]\n"
     ]
    }
   ],
   "source": [
    "constraints = sorted([\n",
    "    [+12,-16,-17,],\n",
    "    [-4,-8,+15,],\n",
    "    [-2,+4,+5,],\n",
    "    [-5,+7,+8,],\n",
    "    [-1,-5,+6,],\n",
    "    [-1,-3,-14,],\n",
    "    [-1,+3,+5,],\n",
    "    [+5,-12,-16,],\n",
    "    [+1,+13,+18,],\n",
    "    [+10,-11,-17,],\n",
    "    [-7,+10,+11,],\n",
    "    [-6,+9,+14,],\n",
    "    [-10,+13,+16,],\n",
    "    [+1,+3,+4,],\n",
    "    [+9,+13,-15,],\n",
    "    [-10,+14,+15,],\n",
    "    [+14,+16,+17,],\n",
    "    [-4,-11,-13,],\n",
    "    [+2,+5,-16,],\n",
    "    [-2,-4,+17,],\n",
    "    [-5,-13,+14,],\n",
    "    [-3,-15,+18,],\n",
    "    [-5,-6,-8,],\n",
    "    [-5,-14,-15,],\n",
    "    [+7,+16,+17,],\n",
    "    [-3,-16,+17,],\n",
    "    [-5,+14,-16,],\n",
    "    [+2,+11,-17,],\n",
    "    [+8,+10,+13,],\n",
    "    [+6,+11,-13,],\n",
    "    [+5,-15,-18,],\n",
    "    [+9,+11,-14,],\n",
    "    [+3,-10,-14,],\n",
    "    [-4,-9,+16,],\n",
    "    [+12,+15,-18,],\n",
    "    [-7,-13,+15,],\n",
    "    [-10,-14,-17,],\n",
    "    [-7,+9,+13,],\n",
    "    [+4,+6,+13,],\n",
    "    [19],\n",
    "], key=lambda x: max(map(abs, x)))\n",
    "N = 18\n",
    "results = []\n",
    "bfs([])\n",
    "print(results[0])"
   ]
  },
  {
   "cell_type": "code",
   "execution_count": null,
   "id": "0b495f7f-7c6c-4c83-b929-892c67c1ae9b",
   "metadata": {},
   "outputs": [],
   "source": []
  }
 ],
 "metadata": {
  "kernelspec": {
   "display_name": "Python 3 (ipykernel)",
   "language": "python",
   "name": "python3"
  },
  "language_info": {
   "codemirror_mode": {
    "name": "ipython",
    "version": 3
   },
   "file_extension": ".py",
   "mimetype": "text/x-python",
   "name": "python",
   "nbconvert_exporter": "python",
   "pygments_lexer": "ipython3",
   "version": "3.10.4"
  }
 },
 "nbformat": 4,
 "nbformat_minor": 5
}
